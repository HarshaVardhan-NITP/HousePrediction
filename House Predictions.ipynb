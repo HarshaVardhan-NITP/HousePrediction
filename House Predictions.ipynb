{
 "cells": [
  {
   "cell_type": "code",
   "execution_count": 1,
   "metadata": {},
   "outputs": [],
   "source": [
    "import numpy as np\n",
    "import pandas as pd\n",
    "import itertools\n",
    "import matplotlib.pyplot as plt\n",
    "import warnings\n",
    "from sklearn.preprocessing import StandardScaler\n",
    "from sklearn.model_selection import train_test_split\n",
    "%matplotlib inline\n",
    "warnings.filterwarnings('ignore')"
   ]
  },
  {
   "cell_type": "code",
   "execution_count": 2,
   "metadata": {},
   "outputs": [],
   "source": [
    "df=pd.read_csv('train.csv')\n",
    "df1=pd.read_csv('test.csv')"
   ]
  },
  {
   "cell_type": "code",
   "execution_count": 3,
   "metadata": {},
   "outputs": [
    {
     "name": "stdout",
     "output_type": "stream",
     "text": [
      "4   259\n",
      "7   1369\n",
      "26   8\n",
      "27   8\n",
      "31   37\n",
      "32   37\n",
      "33   38\n",
      "34   37\n",
      "36   38\n",
      "43   1\n",
      "58   690\n",
      "59   81\n",
      "60   81\n",
      "61   81\n",
      "64   81\n",
      "65   81\n",
      "73   1453\n",
      "74   1179\n",
      "75   1406\n"
     ]
    }
   ],
   "source": [
    "# for finding missing values in each column\n",
    "missing_values=df.isnull().sum()\n",
    "missing_values1=df1.isnull().sum()\n",
    "for i in range(81):\n",
    "    if missing_values[i]!=0:\n",
    "        print(i+1,' ',missing_values[i])"
   ]
  },
  {
   "cell_type": "code",
   "execution_count": 4,
   "metadata": {},
   "outputs": [
    {
     "data": {
      "text/plain": [
       "['Alley', 'FireplaceQu', 'PoolQC', 'Fence', 'MiscFeature']"
      ]
     },
     "execution_count": 4,
     "metadata": {},
     "output_type": "execute_result"
    }
   ],
   "source": [
    "# for checking column names which has more than 50% missing values\n",
    "l=df.columns.values.tolist()\n",
    "l1=df1.columns.values.tolist()\n",
    "col_names=[]\n",
    "col_names1=[]\n",
    "for x in range(81):\n",
    "    if missing_values[x]>259:\n",
    "        col_names.append(l[x])\n",
    "for x in range(80):\n",
    "    if missing_values1[x]>227:\n",
    "        col_names1.append(l1[x])\n",
    "col_names1"
   ]
  },
  {
   "cell_type": "code",
   "execution_count": 5,
   "metadata": {},
   "outputs": [
    {
     "name": "stdout",
     "output_type": "stream",
     "text": [
      "(1459, 75)\n"
     ]
    }
   ],
   "source": [
    "# Droping of the columns which has 50% missing values & checking size of data frame.\n",
    "df.drop(col_names,axis=1,inplace=True)\n",
    "df['LotFrontage']=df['LotFrontage'].interpolate()\n",
    "df1.drop(col_names1,axis=1,inplace=True)\n",
    "df1['LotFrontage']=df1['LotFrontage'].interpolate()\n",
    "print(df1.shape)"
   ]
  },
  {
   "cell_type": "code",
   "execution_count": 6,
   "metadata": {},
   "outputs": [],
   "source": [
    "# Fill the missing values of column 'MasVnrArea' with ffill(forward fill) ,which means filling missing values with its just upper row value.\n",
    "df['MasVnrArea'].fillna(method=\"ffill\",inplace=True)\n",
    "df1['MasVnrArea'].fillna(method=\"ffill\",inplace=True)"
   ]
  },
  {
   "cell_type": "code",
   "execution_count": 7,
   "metadata": {},
   "outputs": [
    {
     "data": {
      "text/plain": [
       "['None',\n",
       " 'TA',\n",
       " 'TA',\n",
       " 'No',\n",
       " 'Unf',\n",
       " 'Unf',\n",
       " 'SBrkr',\n",
       " 'Attchd',\n",
       " 2005.0,\n",
       " 'Unf',\n",
       " 'TA',\n",
       " 'TA']"
      ]
     },
     "execution_count": 7,
     "metadata": {},
     "output_type": "execute_result"
    }
   ],
   "source": [
    "# List of all the values which occurred more number of times in missing columns of train and test sets are copied into two different lists. \n",
    "dup_list=df.columns.values.tolist()\n",
    "dup_list1=df1.columns.values.tolist()\n",
    "lis=[]\n",
    "lis1=[]\n",
    "missing_values=df.isnull().sum()\n",
    "missing_values1=df1.isnull().sum()\n",
    "for i in range(76):\n",
    "    if missing_values[i]>0:\n",
    "        lis.append(df[dup_list[i]].value_counts().index[0])\n",
    "for i in range(75):\n",
    "    if missing_values1[i]>0:\n",
    "        lis1.append(df1[dup_list1[i]].value_counts().index[0])\n",
    "lis"
   ]
  },
  {
   "cell_type": "code",
   "execution_count": 8,
   "metadata": {},
   "outputs": [],
   "source": [
    "# Those missing values in columns are replaced with maximum occured values in that column which are already stored in lists in previous step\n",
    "j=0\n",
    "for i in range(76):\n",
    "    if missing_values[i]>0:\n",
    "        df[dup_list[i]].fillna(lis[j],inplace=True)\n",
    "        j=j+1\n",
    "j=0\n",
    "for i in range(75):\n",
    "    if missing_values1[i]>0:\n",
    "        df1[dup_list1[i]].fillna(lis1[j],inplace=True)\n",
    "        j=j+1"
   ]
  },
  {
   "cell_type": "code",
   "execution_count": 9,
   "metadata": {},
   "outputs": [],
   "source": [
    "from sklearn.feature_selection import SelectKBest\n",
    "from sklearn.feature_selection import chi2"
   ]
  },
  {
   "cell_type": "code",
   "execution_count": 10,
   "metadata": {},
   "outputs": [],
   "source": [
    "# differentiating the categorical and numerical valued columns.\n",
    "cols=df.columns\n",
    "num_cols=df._get_numeric_data().columns\n",
    "cat_cols=list(set(cols)-set(num_cols))\n",
    "cols1=df1.columns\n",
    "num_cols1=df1._get_numeric_data().columns\n",
    "cat_cols1=list(set(cols1)-set(num_cols1))"
   ]
  },
  {
   "cell_type": "code",
   "execution_count": 11,
   "metadata": {},
   "outputs": [
    {
     "name": "stdout",
     "output_type": "stream",
     "text": [
      "(1460, 154)\n",
      "(1459, 153)\n"
     ]
    }
   ],
   "source": [
    "# Adding extra columns of categorical values which present in train and test sets, for increasing accuracy we have only taken top 9 most category variables occured in each categorical columns.\n",
    "s=0\n",
    "temp=[]\n",
    "s1=0\n",
    "for i in range(len(cat_cols1)):\n",
    "    s1=df1[cat_cols1[i]].value_counts().sort_values(ascending=False).size\n",
    "    s=df[cat_cols[i]].value_counts().sort_values(ascending=False).size\n",
    "    if s!=s1:\n",
    "        #temp.append(cat_cols[i])\n",
    "        pass\n",
    "    else:\n",
    "        if s1>9:\n",
    "            top_=[x for x in df1[cat_cols1[i]].value_counts().sort_values(ascending=False).head(9).index]\n",
    "            for label in top_:\n",
    "                df1[label]=np.where(df1[cat_cols1[i]]==label,1,0)\n",
    "                df[label]=np.where(df[cat_cols[i]]==label,1,0)\n",
    "        else:\n",
    "        \n",
    "            temp.append(cat_cols[i])\n",
    "\n",
    "df1=pd.get_dummies(df1,columns=temp,drop_first=True)\n",
    "df=pd.get_dummies(df,columns=temp,drop_first=True)\n",
    "dup=list(set(cat_cols)-set(temp))\n",
    "df1.drop(columns=dup,axis=1,inplace=True)\n",
    "df.drop(columns=dup,axis=1,inplace=True)\n",
    "df.drop(columns=['Id'],axis=1,inplace=True)\n",
    "yo=df1['Id']\n",
    "df1.drop(columns=['Id'],axis=1,inplace=True)\n",
    "print(df.shape)\n",
    "print(df1.shape)"
   ]
  },
  {
   "cell_type": "code",
   "execution_count": 12,
   "metadata": {},
   "outputs": [],
   "source": [
    "from sklearn.feature_selection import VarianceThreshold"
   ]
  },
  {
   "cell_type": "code",
   "execution_count": 13,
   "metadata": {},
   "outputs": [],
   "source": [
    "# checks the variance threshold for each column with another and remove columns having threshold higher than 0.075 and stores in anoter data frame df4\n",
    "selector=VarianceThreshold(threshold=0.075)\n",
    "df4=selector.fit_transform(df)"
   ]
  },
  {
   "cell_type": "code",
   "execution_count": 15,
   "metadata": {},
   "outputs": [],
   "source": [
    "# 'y' is the column to be predicted and 'x' is data frame used to predict vaues of 'y' column. \n",
    "y=df['SalePrice']\n",
    "x=df.drop(columns=['SalePrice'],axis=1)"
   ]
  },
  {
   "cell_type": "code",
   "execution_count": 17,
   "metadata": {},
   "outputs": [],
   "source": [
    "# selecting top 10 best features used for prediction \n",
    "best_features=SelectKBest(score_func=chi2,k=10)\n",
    "fit=best_features.fit(x,y)"
   ]
  },
  {
   "cell_type": "code",
   "execution_count": 19,
   "metadata": {},
   "outputs": [],
   "source": [
    "# get scores of columns how much it is co-related to 'y' column\n",
    "dfscores=pd.DataFrame(fit.scores_)\n",
    "dfcolumns=pd.DataFrame(x.columns)"
   ]
  },
  {
   "cell_type": "code",
   "execution_count": 20,
   "metadata": {},
   "outputs": [
    {
     "data": {
      "text/html": [
       "<div>\n",
       "<style scoped>\n",
       "    .dataframe tbody tr th:only-of-type {\n",
       "        vertical-align: middle;\n",
       "    }\n",
       "\n",
       "    .dataframe tbody tr th {\n",
       "        vertical-align: top;\n",
       "    }\n",
       "\n",
       "    .dataframe thead th {\n",
       "        text-align: right;\n",
       "    }\n",
       "</style>\n",
       "<table border=\"1\" class=\"dataframe\">\n",
       "  <thead>\n",
       "    <tr style=\"text-align: right;\">\n",
       "      <th></th>\n",
       "      <th>Specs</th>\n",
       "      <th>Scores</th>\n",
       "    </tr>\n",
       "  </thead>\n",
       "  <tbody>\n",
       "    <tr>\n",
       "      <th>0</th>\n",
       "      <td>MSSubClass</td>\n",
       "      <td>1.928123e+04</td>\n",
       "    </tr>\n",
       "    <tr>\n",
       "      <th>1</th>\n",
       "      <td>LotFrontage</td>\n",
       "      <td>5.399789e+03</td>\n",
       "    </tr>\n",
       "    <tr>\n",
       "      <th>2</th>\n",
       "      <td>LotArea</td>\n",
       "      <td>1.011497e+07</td>\n",
       "    </tr>\n",
       "    <tr>\n",
       "      <th>3</th>\n",
       "      <td>OverallQual</td>\n",
       "      <td>3.780776e+02</td>\n",
       "    </tr>\n",
       "    <tr>\n",
       "      <th>4</th>\n",
       "      <td>OverallCond</td>\n",
       "      <td>1.549787e+02</td>\n",
       "    </tr>\n",
       "    <tr>\n",
       "      <th>...</th>\n",
       "      <td>...</td>\n",
       "      <td>...</td>\n",
       "    </tr>\n",
       "    <tr>\n",
       "      <th>148</th>\n",
       "      <td>BsmtFinType1_BLQ</td>\n",
       "      <td>4.825147e+02</td>\n",
       "    </tr>\n",
       "    <tr>\n",
       "      <th>149</th>\n",
       "      <td>BsmtFinType1_GLQ</td>\n",
       "      <td>5.971747e+02</td>\n",
       "    </tr>\n",
       "    <tr>\n",
       "      <th>150</th>\n",
       "      <td>BsmtFinType1_LwQ</td>\n",
       "      <td>5.875874e+02</td>\n",
       "    </tr>\n",
       "    <tr>\n",
       "      <th>151</th>\n",
       "      <td>BsmtFinType1_Rec</td>\n",
       "      <td>5.121735e+02</td>\n",
       "    </tr>\n",
       "    <tr>\n",
       "      <th>152</th>\n",
       "      <td>BsmtFinType1_Unf</td>\n",
       "      <td>4.952400e+02</td>\n",
       "    </tr>\n",
       "  </tbody>\n",
       "</table>\n",
       "<p>153 rows × 2 columns</p>\n",
       "</div>"
      ],
      "text/plain": [
       "                Specs        Scores\n",
       "0          MSSubClass  1.928123e+04\n",
       "1         LotFrontage  5.399789e+03\n",
       "2             LotArea  1.011497e+07\n",
       "3         OverallQual  3.780776e+02\n",
       "4         OverallCond  1.549787e+02\n",
       "..                ...           ...\n",
       "148  BsmtFinType1_BLQ  4.825147e+02\n",
       "149  BsmtFinType1_GLQ  5.971747e+02\n",
       "150  BsmtFinType1_LwQ  5.875874e+02\n",
       "151  BsmtFinType1_Rec  5.121735e+02\n",
       "152  BsmtFinType1_Unf  4.952400e+02\n",
       "\n",
       "[153 rows x 2 columns]"
      ]
     },
     "execution_count": 20,
     "metadata": {},
     "output_type": "execute_result"
    }
   ],
   "source": [
    "featureScores=pd.concat([dfcolumns,dfscores],axis=1)\n",
    "featureScores.columns=[\"Specs\",\"Scores\"]\n",
    "featureScores"
   ]
  },
  {
   "cell_type": "code",
   "execution_count": 21,
   "metadata": {},
   "outputs": [
    {
     "name": "stdout",
     "output_type": "stream",
     "text": [
      "           Specs        Scores\n",
      "2        LotArea  1.011497e+07\n",
      "33       MiscVal  6.253332e+06\n",
      "13      2ndFlrSF  4.648841e+05\n",
      "8     BsmtFinSF1  3.999851e+05\n",
      "32      PoolArea  3.835642e+05\n",
      "9     BsmtFinSF2  3.688827e+05\n",
      "7     MasVnrArea  2.874578e+05\n",
      "10     BsmtUnfSF  2.747512e+05\n",
      "14  LowQualFinSF  2.448810e+05\n",
      "15     GrLivArea  1.968501e+05\n"
     ]
    }
   ],
   "source": [
    "# printing top 10 best features used for prediction\n",
    "print(featureScores.nlargest(10,'Scores'))"
   ]
  },
  {
   "cell_type": "code",
   "execution_count": 22,
   "metadata": {},
   "outputs": [
    {
     "data": {
      "text/plain": [
       "ExtraTreesClassifier(bootstrap=False, ccp_alpha=0.0, class_weight=None,\n",
       "                     criterion='gini', max_depth=None, max_features='auto',\n",
       "                     max_leaf_nodes=None, max_samples=None,\n",
       "                     min_impurity_decrease=0.0, min_impurity_split=None,\n",
       "                     min_samples_leaf=1, min_samples_split=2,\n",
       "                     min_weight_fraction_leaf=0.0, n_estimators=100,\n",
       "                     n_jobs=None, oob_score=False, random_state=None, verbose=0,\n",
       "                     warm_start=False)"
      ]
     },
     "execution_count": 22,
     "metadata": {},
     "output_type": "execute_result"
    }
   ],
   "source": [
    "# If we want to see graphically how mush each column is co-related with 'y' column we use extra tree classifier\n",
    "from sklearn.ensemble import ExtraTreesClassifier\n",
    "model=ExtraTreesClassifier()\n",
    "model.fit(x,y)"
   ]
  },
  {
   "cell_type": "code",
   "execution_count": 23,
   "metadata": {},
   "outputs": [
    {
     "data": {
      "image/png": "[encoded data removed]",
      "text/plain": [
       "<Figure size 432x288 with 1 Axes>"
      ]
     },
     "metadata": {
      "needs_background": "light"
     },
     "output_type": "display_data"
    }
   ],
   "source": [
    "feat_importance=pd.Series(model.feature_importances_,index=x.columns)\n",
    "feat_importance.nlargest(20).plot(kind='barh')\n",
    "plt.show()"
   ]
  },
  {
   "cell_type": "code",
   "execution_count": 24,
   "metadata": {},
   "outputs": [],
   "source": [
    "# importing XGBoost classifier for prediction which uses multiple decision trees in default\n",
    "from sklearn.model_selection import RandomizedSearchCV,GridSearchCV\n",
    "import xgboost as xgb"
   ]
  },
  {
   "cell_type": "code",
   "execution_count": 25,
   "metadata": {},
   "outputs": [],
   "source": [
    "# We use regressor here because we predict continuos values and hyper parameters are set with which we can get maximum cross validation score\n",
    "regressor=xgb.XGBRegressor(n_estimators=1000,learning_rate=0.05,max_depth=5,colsample_bytree=0.8,min_child_weight=3,reg_lambda=1.20)"
   ]
  },
  {
   "cell_type": "code",
   "execution_count": 26,
   "metadata": {},
   "outputs": [
    {
     "data": {
      "text/plain": [
       "XGBRegressor(base_score=0.5, booster='gbtree', colsample_bylevel=1,\n",
       "             colsample_bynode=1, colsample_bytree=0.8, gamma=0, gpu_id=-1,\n",
       "             importance_type='gain', interaction_constraints='',\n",
       "             learning_rate=0.05, max_delta_step=0, max_depth=5,\n",
       "             min_child_weight=3, missing=nan, monotone_constraints='()',\n",
       "             n_estimators=1000, n_jobs=0, num_parallel_tree=1,\n",
       "             objective='reg:squarederror', random_state=0, reg_alpha=0,\n",
       "             reg_lambda=1.2, scale_pos_weight=1, subsample=1,\n",
       "             tree_method='exact', validate_parameters=1, verbosity=None)"
      ]
     },
     "execution_count": 26,
     "metadata": {},
     "output_type": "execute_result"
    }
   ],
   "source": [
    "y=df['SalePrice'].values\n",
    "x=df.drop(columns=['SalePrice'],axis=1).values\n",
    "regressor.fit(x,y)"
   ]
  },
  {
   "cell_type": "code",
   "execution_count": 27,
   "metadata": {},
   "outputs": [],
   "source": [
    "# prediction values stored in preds\n",
    "preds=regressor.predict(x)"
   ]
  },
  {
   "cell_type": "code",
   "execution_count": 28,
   "metadata": {},
   "outputs": [
    {
     "data": {
      "text/plain": [
       "0.8908146473516139"
      ]
     },
     "execution_count": 28,
     "metadata": {},
     "output_type": "execute_result"
    }
   ],
   "source": [
    "# checking the cross validation score.\n",
    "# We got 90% accurate results :).\n",
    "from sklearn.model_selection import cross_val_score\n",
    "from sklearn.metrics import mean_absolute_error\n",
    "score=cross_val_score(regressor,x,y,cv=4)\n",
    "score.mean()"
   ]
  },
  {
   "cell_type": "code",
   "execution_count": 29,
   "metadata": {},
   "outputs": [],
   "source": [
    "# This is the test set predictions, before we computed train set predictions.\n",
    "x1=df1.values\n",
    "preds1=regressor.predict(x1)"
   ]
  },
  {
   "cell_type": "code",
   "execution_count": 30,
   "metadata": {},
   "outputs": [
    {
     "data": {
      "text/html": [
       "<div>\n",
       "<style scoped>\n",
       "    .dataframe tbody tr th:only-of-type {\n",
       "        vertical-align: middle;\n",
       "    }\n",
       "\n",
       "    .dataframe tbody tr th {\n",
       "        vertical-align: top;\n",
       "    }\n",
       "\n",
       "    .dataframe thead th {\n",
       "        text-align: right;\n",
       "    }\n",
       "</style>\n",
       "<table border=\"1\" class=\"dataframe\">\n",
       "  <thead>\n",
       "    <tr style=\"text-align: right;\">\n",
       "      <th></th>\n",
       "      <th>Id</th>\n",
       "      <th>SalePrice</th>\n",
       "    </tr>\n",
       "  </thead>\n",
       "  <tbody>\n",
       "    <tr>\n",
       "      <th>0</th>\n",
       "      <td>1461</td>\n",
       "      <td>127146.117188</td>\n",
       "    </tr>\n",
       "    <tr>\n",
       "      <th>1</th>\n",
       "      <td>1462</td>\n",
       "      <td>158577.250000</td>\n",
       "    </tr>\n",
       "    <tr>\n",
       "      <th>2</th>\n",
       "      <td>1463</td>\n",
       "      <td>193692.734375</td>\n",
       "    </tr>\n",
       "    <tr>\n",
       "      <th>3</th>\n",
       "      <td>1464</td>\n",
       "      <td>202223.812500</td>\n",
       "    </tr>\n",
       "    <tr>\n",
       "      <th>4</th>\n",
       "      <td>1465</td>\n",
       "      <td>190200.515625</td>\n",
       "    </tr>\n",
       "  </tbody>\n",
       "</table>\n",
       "</div>"
      ],
      "text/plain": [
       "     Id      SalePrice\n",
       "0  1461  127146.117188\n",
       "1  1462  158577.250000\n",
       "2  1463  193692.734375\n",
       "3  1464  202223.812500\n",
       "4  1465  190200.515625"
      ]
     },
     "execution_count": 30,
     "metadata": {},
     "output_type": "execute_result"
    }
   ],
   "source": [
    "df2=pd.DataFrame(columns=['Id','SalePrice'])\n",
    "df2['Id']=yo\n",
    "df3=pd.DataFrame(preds1,columns=['SalePrice'])\n",
    "df2['SalePrice']=df3['SalePrice']\n",
    "df2.head()"
   ]
  },
  {
   "cell_type": "code",
   "execution_count": 31,
   "metadata": {},
   "outputs": [],
   "source": [
    "# Saving the prediction into another csv file \n",
    "df2.to_csv('Submission.csv')"
   ]
  }
 ],
 "metadata": {
  "kernelspec": {
   "display_name": "Python 3",
   "language": "python",
   "name": "python3"
  },
  "language_info": {
   "codemirror_mode": {
    "name": "ipython",
    "version": 3
   },
   "file_extension": ".py",
   "mimetype": "text/x-python",
   "name": "python",
   "nbconvert_exporter": "python",
   "pygments_lexer": "ipython3",
   "version": "3.7.6"
  }
 },
 "nbformat": 4,
 "nbformat_minor": 4
}
